{
 "cells": [
  {
   "cell_type": "markdown",
   "id": "b2611d3f-14cf-4d91-93d7-f86156b48d57",
   "metadata": {},
   "source": [
    "# Modeling and Evaluation"
   ]
  },
  {
   "cell_type": "markdown",
   "id": "41830027-c49b-44f6-9d12-826e08e27762",
   "metadata": {},
   "source": [
    "## Objectives"
   ]
  },
  {
   "cell_type": "markdown",
   "id": "3cc876db-4dcd-46d4-bca9-e3cf64b81e28",
   "metadata": {},
   "source": [
    "* Fit and evaluate a classification model to predict the sale price of houses\n"
   ]
  },
  {
   "cell_type": "markdown",
   "id": "009f8ba7-ba5d-4d3a-8093-5165c290b858",
   "metadata": {},
   "source": [
    "# Inputs"
   ]
  },
  {
   "cell_type": "markdown",
   "id": "51f4c05c-866c-495e-99af-323f3beb37a9",
   "metadata": {},
   "source": [
    "* inputs/datasets/raw/house-price-20211124T154130Z-001/house-price/house_prices_records.csv\n",
    "* Instructions on which variables to use for data cleaning and feature engineering. They are found in each respective notebook."
   ]
  },
  {
   "cell_type": "markdown",
   "id": "278f511e-afb6-472e-97de-4e40b9d7cc3a",
   "metadata": {},
   "source": [
    "# Outputs"
   ]
  },
  {
   "cell_type": "markdown",
   "id": "b3995b1f-f509-4c9d-8d20-0b2e10b68073",
   "metadata": {},
   "source": [
    "* Train set (features and target)\n",
    "* Test set (features and target)\n",
    "* Modeling pipeline\n",
    "* Feature importance plot\n"
   ]
  },
  {
   "cell_type": "markdown",
   "id": "48ece6ab-0e7f-4869-bad6-a8c127fa20cc",
   "metadata": {},
   "source": [
    "***"
   ]
  },
  {
   "cell_type": "markdown",
   "id": "16ab5844-468a-42f3-af9e-3abdde0cf5e4",
   "metadata": {},
   "source": [
    "# Change working directory"
   ]
  },
  {
   "cell_type": "code",
   "execution_count": 1,
   "id": "991c80f7-4dc7-485b-9223-482703425340",
   "metadata": {},
   "outputs": [
    {
     "data": {
      "text/plain": [
       "'/workspaces/heritage-housing-issues/jupyter_notebooks'"
      ]
     },
     "execution_count": 1,
     "metadata": {},
     "output_type": "execute_result"
    }
   ],
   "source": [
    "import os\n",
    "current_dir = os.getcwd()\n",
    "current_dir"
   ]
  },
  {
   "cell_type": "code",
   "execution_count": 2,
   "id": "8a956d78-da4f-4488-9c5d-b163a5a38bd8",
   "metadata": {},
   "outputs": [
    {
     "name": "stdout",
     "output_type": "stream",
     "text": [
      "You set a new current directory\n"
     ]
    }
   ],
   "source": [
    "os.chdir(os.path.dirname(current_dir))\n",
    "print(\"You set a new current directory\")"
   ]
  },
  {
   "cell_type": "code",
   "execution_count": 3,
   "id": "6adf579b-07e6-4b1f-9286-f72c34e94594",
   "metadata": {},
   "outputs": [
    {
     "data": {
      "text/plain": [
       "'/workspaces/heritage-housing-issues'"
      ]
     },
     "execution_count": 3,
     "metadata": {},
     "output_type": "execute_result"
    }
   ],
   "source": [
    "current_dir = os.getcwd()\n",
    "current_dir"
   ]
  },
  {
   "cell_type": "markdown",
   "id": "5c9d663d-4fcb-4a60-82ed-d59fe8510ead",
   "metadata": {},
   "source": [
    "# Load data"
   ]
  },
  {
   "cell_type": "code",
   "execution_count": 4,
   "id": "cf1d1126-fa7e-479d-92d8-632dad9a64de",
   "metadata": {},
   "outputs": [
    {
     "name": "stdout",
     "output_type": "stream",
     "text": [
      "(1460, 24)\n"
     ]
    },
    {
     "data": {
      "text/html": [
       "<div>\n",
       "<style scoped>\n",
       "    .dataframe tbody tr th:only-of-type {\n",
       "        vertical-align: middle;\n",
       "    }\n",
       "\n",
       "    .dataframe tbody tr th {\n",
       "        vertical-align: top;\n",
       "    }\n",
       "\n",
       "    .dataframe thead th {\n",
       "        text-align: right;\n",
       "    }\n",
       "</style>\n",
       "<table border=\"1\" class=\"dataframe\">\n",
       "  <thead>\n",
       "    <tr style=\"text-align: right;\">\n",
       "      <th></th>\n",
       "      <th>1stFlrSF</th>\n",
       "      <th>2ndFlrSF</th>\n",
       "      <th>BedroomAbvGr</th>\n",
       "      <th>BsmtExposure</th>\n",
       "      <th>BsmtFinSF1</th>\n",
       "      <th>BsmtFinType1</th>\n",
       "      <th>BsmtUnfSF</th>\n",
       "      <th>EnclosedPorch</th>\n",
       "      <th>GarageArea</th>\n",
       "      <th>GarageFinish</th>\n",
       "      <th>...</th>\n",
       "      <th>LotFrontage</th>\n",
       "      <th>MasVnrArea</th>\n",
       "      <th>OpenPorchSF</th>\n",
       "      <th>OverallCond</th>\n",
       "      <th>OverallQual</th>\n",
       "      <th>TotalBsmtSF</th>\n",
       "      <th>WoodDeckSF</th>\n",
       "      <th>YearBuilt</th>\n",
       "      <th>YearRemodAdd</th>\n",
       "      <th>SalePrice</th>\n",
       "    </tr>\n",
       "  </thead>\n",
       "  <tbody>\n",
       "    <tr>\n",
       "      <th>0</th>\n",
       "      <td>856</td>\n",
       "      <td>854.0</td>\n",
       "      <td>3.0</td>\n",
       "      <td>No</td>\n",
       "      <td>706</td>\n",
       "      <td>GLQ</td>\n",
       "      <td>150</td>\n",
       "      <td>0.0</td>\n",
       "      <td>548</td>\n",
       "      <td>RFn</td>\n",
       "      <td>...</td>\n",
       "      <td>65.0</td>\n",
       "      <td>196.0</td>\n",
       "      <td>61</td>\n",
       "      <td>5</td>\n",
       "      <td>7</td>\n",
       "      <td>856</td>\n",
       "      <td>0.0</td>\n",
       "      <td>2003</td>\n",
       "      <td>2003</td>\n",
       "      <td>208500</td>\n",
       "    </tr>\n",
       "    <tr>\n",
       "      <th>1</th>\n",
       "      <td>1262</td>\n",
       "      <td>0.0</td>\n",
       "      <td>3.0</td>\n",
       "      <td>Gd</td>\n",
       "      <td>978</td>\n",
       "      <td>ALQ</td>\n",
       "      <td>284</td>\n",
       "      <td>NaN</td>\n",
       "      <td>460</td>\n",
       "      <td>RFn</td>\n",
       "      <td>...</td>\n",
       "      <td>80.0</td>\n",
       "      <td>0.0</td>\n",
       "      <td>0</td>\n",
       "      <td>8</td>\n",
       "      <td>6</td>\n",
       "      <td>1262</td>\n",
       "      <td>NaN</td>\n",
       "      <td>1976</td>\n",
       "      <td>1976</td>\n",
       "      <td>181500</td>\n",
       "    </tr>\n",
       "    <tr>\n",
       "      <th>2</th>\n",
       "      <td>920</td>\n",
       "      <td>866.0</td>\n",
       "      <td>3.0</td>\n",
       "      <td>Mn</td>\n",
       "      <td>486</td>\n",
       "      <td>GLQ</td>\n",
       "      <td>434</td>\n",
       "      <td>0.0</td>\n",
       "      <td>608</td>\n",
       "      <td>RFn</td>\n",
       "      <td>...</td>\n",
       "      <td>68.0</td>\n",
       "      <td>162.0</td>\n",
       "      <td>42</td>\n",
       "      <td>5</td>\n",
       "      <td>7</td>\n",
       "      <td>920</td>\n",
       "      <td>NaN</td>\n",
       "      <td>2001</td>\n",
       "      <td>2002</td>\n",
       "      <td>223500</td>\n",
       "    </tr>\n",
       "  </tbody>\n",
       "</table>\n",
       "<p>3 rows × 24 columns</p>\n",
       "</div>"
      ],
      "text/plain": [
       "   1stFlrSF  2ndFlrSF  BedroomAbvGr BsmtExposure  BsmtFinSF1 BsmtFinType1  \\\n",
       "0       856     854.0           3.0           No         706          GLQ   \n",
       "1      1262       0.0           3.0           Gd         978          ALQ   \n",
       "2       920     866.0           3.0           Mn         486          GLQ   \n",
       "\n",
       "   BsmtUnfSF  EnclosedPorch  GarageArea GarageFinish  ...  LotFrontage  \\\n",
       "0        150            0.0         548          RFn  ...         65.0   \n",
       "1        284            NaN         460          RFn  ...         80.0   \n",
       "2        434            0.0         608          RFn  ...         68.0   \n",
       "\n",
       "   MasVnrArea OpenPorchSF  OverallCond  OverallQual  TotalBsmtSF  WoodDeckSF  \\\n",
       "0       196.0          61            5            7          856         0.0   \n",
       "1         0.0           0            8            6         1262         NaN   \n",
       "2       162.0          42            5            7          920         NaN   \n",
       "\n",
       "   YearBuilt  YearRemodAdd  SalePrice  \n",
       "0       2003          2003     208500  \n",
       "1       1976          1976     181500  \n",
       "2       2001          2002     223500  \n",
       "\n",
       "[3 rows x 24 columns]"
      ]
     },
     "execution_count": 4,
     "metadata": {},
     "output_type": "execute_result"
    }
   ],
   "source": [
    "import numpy as np\n",
    "import pandas as pd\n",
    "df = pd.read_csv(f\"inputs/datasets/raw/house-price-20211124T154130Z-001/house-price/house_prices_records.csv\")\n",
    "print(df.shape)\n",
    "df.head(3)"
   ]
  },
  {
   "cell_type": "markdown",
   "id": "31e66404-99c2-484f-a66a-bd9498260368",
   "metadata": {},
   "source": [
    "# ML Pipeline with all data"
   ]
  },
  {
   "cell_type": "markdown",
   "id": "f81e3ea1-36b2-4352-8d89-4477b979e208",
   "metadata": {},
   "source": [
    "## ML pipeline for Data Cleaning and Feature Engineering"
   ]
  },
  {
   "cell_type": "code",
   "execution_count": 5,
   "id": "4ff8672d-f89f-4787-8255-0df2a9c3c9b0",
   "metadata": {},
   "outputs": [],
   "source": [
    "from sklearn.pipeline import Pipeline\n",
    "from feature_engine.selection import SmartCorrelatedSelection\n",
    "from feature_engine.encoding import OrdinalEncoder"
   ]
  },
  {
   "cell_type": "code",
   "execution_count": 6,
   "id": "fb171102-8e53-4b3e-9f66-372d4924a021",
   "metadata": {},
   "outputs": [],
   "source": [
    "from feature_engine import transformation as vt\n",
    "from feature_engine.selection import DropFeatures\n",
    "from feature_engine.imputation import  MeanMedianImputer\n",
    "from feature_engine.imputation import  CategoricalImputer\n",
    "from feature_engine.imputation import  ArbitraryNumberImputer\n",
    "\n",
    "def PipelineDataCleaningAndFeatureEngineering():\n",
    "    pipeline_base = Pipeline([\n",
    "        (\"DropFeatures\", DropFeatures(features_to_drop=['EnclosedPorch', 'WoodDeckSF'])),\n",
    "        (\"ArbitraryNumberImputer\", ArbitraryNumberImputer(arbitrary_number=0, variables=['MasVnrArea', '2ndFlrSF'])),\n",
    "        (\"CategoricalImputer\", CategoricalImputer(imputation_method='missing', fill_value='Unf', variables=['GarageFinish', 'BsmtFinType1'])),\n",
    "        (\"MeanMedianImputer\", MeanMedianImputer(imputation_method='median', variables=['LotFrontage', 'BedroomAbvGr', 'GarageYrBlt'])),\n",
    "        (\"OrdinalCategoricalEncoder\", OrdinalEncoder(encoding_method='arbitrary',\n",
    "                                                     variables=['BsmtExposure','BsmtFinType1','GarageFinish','KitchenQual'])),\n",
    "\n",
    "        (\"YeoJohnsonTransformer\", vt.YeoJohnsonTransformer(variables=['BsmtUnfSF', 'GarageArea'])),\n",
    "        (\"PowerTransformer\", vt.PowerTransformer(variables = ['1stFlrSF','LotArea', 'GrLivArea'], exp=0.5)),\n",
    "\n",
    "        (\"SmartCorrelatedSelection\", SmartCorrelatedSelection(variables=None,\n",
    "         method=\"spearman\", threshold=0.6, selection_method=\"variance\")),\n",
    "\n",
    "    ])\n",
    "\n",
    "    return pipeline_base\n"
   ]
  },
  {
   "cell_type": "markdown",
   "id": "bb94eb3e-4f38-4794-8c29-cfcb04e26ac6",
   "metadata": {},
   "source": [
    "## ML Pipeline for Modelling and Hyperparameter Optimisation"
   ]
  },
  {
   "cell_type": "code",
   "execution_count": 7,
   "id": "0d75dc52-8f18-4b97-95e3-cac2979f0052",
   "metadata": {},
   "outputs": [
    {
     "name": "stderr",
     "output_type": "stream",
     "text": [
      "/home/codeany/.local/lib/python3.8/site-packages/xgboost/compat.py:93: FutureWarning: pandas.Int64Index is deprecated and will be removed from pandas in a future version. Use pandas.Index with the appropriate dtype instead.\n",
      "  from pandas import MultiIndex, Int64Index\n"
     ]
    }
   ],
   "source": [
    "from sklearn.preprocessing import StandardScaler\n",
    "\n",
    "from sklearn.feature_selection import SelectFromModel\n",
    "\n",
    "from sklearn.linear_model import LogisticRegression\n",
    "from sklearn.tree import DecisionTreeRegressor\n",
    "from sklearn.ensemble import RandomForestRegressor\n",
    "from sklearn.ensemble import GradientBoostingRegressor\n",
    "from sklearn.ensemble import ExtraTreesRegressor\n",
    "from sklearn.ensemble import AdaBoostRegressor\n",
    "from xgboost import XGBRegressor\n",
    "\n",
    "\n",
    "def PipelineClf(model):\n",
    "    pipeline_base = Pipeline([\n",
    "        (\"scaler\", StandardScaler()),\n",
    "        (\"feat_selection\", SelectFromModel(model)),\n",
    "        (\"model\", model),\n",
    "    ])\n",
    "\n",
    "    return pipeline_base"
   ]
  },
  {
   "cell_type": "markdown",
   "id": "f5a42002-40e2-4d00-987f-6c8ad5a0b424",
   "metadata": {},
   "source": [
    "Code Institutes Custom Class for Hyperparameter Optimisation"
   ]
  },
  {
   "cell_type": "code",
   "execution_count": 8,
   "id": "9a7a2df9-46f0-40bd-ad18-f87caa3c921d",
   "metadata": {},
   "outputs": [],
   "source": [
    "from sklearn.model_selection import GridSearchCV\n",
    "\n",
    "\n",
    "class HyperparameterOptimizationSearch:\n",
    "\n",
    "    def __init__(self, models, params):\n",
    "        self.models = models\n",
    "        self.params = params\n",
    "        self.keys = models.keys()\n",
    "        self.grid_searches = {}\n",
    "\n",
    "    def fit(self, X, y, cv, n_jobs, verbose=1, scoring=None, refit=False):\n",
    "        for key in self.keys:\n",
    "            print(f\"\\nRunning GridSearchCV for {key} \\n\")\n",
    "\n",
    "            model = PipelineClf(self.models[key])\n",
    "            params = self.params[key]\n",
    "            gs = GridSearchCV(model, params, cv=cv, n_jobs=n_jobs,\n",
    "                              verbose=verbose, scoring=scoring, )\n",
    "            gs.fit(X, y)\n",
    "            self.grid_searches[key] = gs\n",
    "\n",
    "    def score_summary(self, sort_by='mean_score'):\n",
    "        def row(key, scores, params):\n",
    "            d = {\n",
    "                'estimator': key,\n",
    "                'min_score': min(scores),\n",
    "                'max_score': max(scores),\n",
    "                'mean_score': np.mean(scores),\n",
    "                'std_score': np.std(scores),\n",
    "            }\n",
    "            return pd.Series({**params, **d})\n",
    "\n",
    "        rows = []\n",
    "        for k in self.grid_searches:\n",
    "            params = self.grid_searches[k].cv_results_['params']\n",
    "            scores = []\n",
    "            for i in range(self.grid_searches[k].cv):\n",
    "                key = \"split{}_test_score\".format(i)\n",
    "                r = self.grid_searches[k].cv_results_[key]\n",
    "                scores.append(r.reshape(len(params), 1))\n",
    "\n",
    "            all_scores = np.hstack(scores)\n",
    "            for p, s in zip(params, all_scores):\n",
    "                rows.append((row(k, s, p)))\n",
    "\n",
    "        df = pd.concat(rows, axis=1).T.sort_values([sort_by], ascending=False)\n",
    "        columns = ['estimator', 'min_score',\n",
    "                   'mean_score', 'max_score', 'std_score']\n",
    "        columns = columns + [c for c in df.columns if c not in columns]\n",
    "        return df[columns], self.grid_searches"
   ]
  },
  {
   "cell_type": "markdown",
   "id": "0af840ca-377d-463e-ab85-428f942cbb20",
   "metadata": {},
   "source": [
    "## Split Train and Test Set"
   ]
  },
  {
   "cell_type": "code",
   "execution_count": 9,
   "id": "490b916e-2d92-46c2-a30f-41b0f1809436",
   "metadata": {},
   "outputs": [
    {
     "name": "stdout",
     "output_type": "stream",
     "text": [
      "(1168, 23) (1168,) (292, 23) (292,)\n"
     ]
    }
   ],
   "source": [
    "from sklearn.model_selection import train_test_split\n",
    "X_train, X_test, y_train, y_test = train_test_split(\n",
    "    df.drop(['SalePrice'], axis=1),\n",
    "    df['SalePrice'],\n",
    "    test_size=0.2,\n",
    "    random_state=0,\n",
    ")\n",
    "\n",
    "print(X_train.shape, y_train.shape, X_test.shape, y_test.shape)"
   ]
  },
  {
   "cell_type": "markdown",
   "id": "e7d6906a-ffbd-4678-8fa2-339c89e12719",
   "metadata": {},
   "source": [
    "Train and Test set seems to be balanced, so we dont need to handle any imbalance"
   ]
  },
  {
   "cell_type": "markdown",
   "id": "767ed5b2-2c0c-436f-92fa-7e311bfd9d79",
   "metadata": {},
   "source": [
    "Fit and transform train and test set"
   ]
  },
  {
   "cell_type": "code",
   "execution_count": 10,
   "id": "9f677000-30f5-4502-9986-63b130e482ee",
   "metadata": {},
   "outputs": [
    {
     "name": "stdout",
     "output_type": "stream",
     "text": [
      "(1168, 17) (1168,) (292, 17) (292,)\n"
     ]
    },
    {
     "name": "stderr",
     "output_type": "stream",
     "text": [
      "/home/codeany/.local/lib/python3.8/site-packages/feature_engine/selection/smart_correlation_selection.py:271: FutureWarning: Passing a set as an indexer is deprecated and will raise in a future version. Use a list instead.\n",
      "  f = X[feature_group].std().sort_values(ascending=False).index[0]\n",
      "/home/codeany/.local/lib/python3.8/site-packages/feature_engine/selection/smart_correlation_selection.py:271: FutureWarning: Passing a set as an indexer is deprecated and will raise in a future version. Use a list instead.\n",
      "  f = X[feature_group].std().sort_values(ascending=False).index[0]\n",
      "/home/codeany/.local/lib/python3.8/site-packages/feature_engine/selection/smart_correlation_selection.py:271: FutureWarning: Passing a set as an indexer is deprecated and will raise in a future version. Use a list instead.\n",
      "  f = X[feature_group].std().sort_values(ascending=False).index[0]\n"
     ]
    }
   ],
   "source": [
    "pipeline = PipelineDataCleaningAndFeatureEngineering()\n",
    "X_train = pipeline.fit_transform(X_train)\n",
    "X_test = pipeline.transform(X_test)\n",
    "print(X_train.shape, y_train.shape, X_test.shape, y_test.shape)"
   ]
  },
  {
   "cell_type": "markdown",
   "id": "f74f5fe9-8c34-4cc8-b417-17259cd143c0",
   "metadata": {},
   "source": [
    "## Grid Search CV - Sklearn"
   ]
  },
  {
   "cell_type": "markdown",
   "id": "efe01922-d243-49fc-ad16-641b0921ee7c",
   "metadata": {},
   "source": [
    "Use standard hyperparameters to find most suitable algorithm"
   ]
  },
  {
   "cell_type": "code",
   "execution_count": 11,
   "id": "93bee3ca-15db-4226-831c-ced14c9d650f",
   "metadata": {},
   "outputs": [],
   "source": [
    "models_quick_search = {\n",
    "    \"LogisticRegression\": LogisticRegression(),\n",
    "    \"XGBRegressor\": XGBRegressor(random_state=0),\n",
    "    \"DecisionTreeRegressor\": DecisionTreeRegressor(random_state=0),\n",
    "    \"RandomForestRegressor\": RandomForestRegressor(random_state=0),\n",
    "    \"GradientBoostingRegressor\": GradientBoostingRegressor(random_state=0),\n",
    "    \"ExtraTreesRegressor\": ExtraTreesRegressor(random_state=0),\n",
    "    \"AdaBoostRegressor\": AdaBoostRegressor(random_state=0),\n",
    "}\n",
    "\n",
    "params_quick_search = {\n",
    "    \"LogisticRegression\": {},\n",
    "    \"XGBRegressor\": {},\n",
    "    \"DecisionTreeRegressor\": {},\n",
    "    \"RandomForestRegressor\": {},\n",
    "    \"GradientBoostingRegressor\": {},\n",
    "    \"ExtraTreesRegressor\": {},\n",
    "    \"AdaBoostRegressor\": {},\n",
    "}"
   ]
  },
  {
   "cell_type": "code",
   "execution_count": 12,
   "id": "5f804a1f-8c17-4eaf-936f-6ba259c1e052",
   "metadata": {},
   "outputs": [
    {
     "name": "stdout",
     "output_type": "stream",
     "text": [
      "\n",
      "Running GridSearchCV for LogisticRegression \n",
      "\n",
      "Fitting 5 folds for each of 1 candidates, totalling 5 fits\n"
     ]
    },
    {
     "name": "stderr",
     "output_type": "stream",
     "text": [
      "/home/codeany/.local/lib/python3.8/site-packages/sklearn/model_selection/_split.py:666: UserWarning: The least populated class in y has only 1 members, which is less than n_splits=5.\n",
      "  warnings.warn((\"The least populated class in y has only %d\"\n"
     ]
    },
    {
     "name": "stdout",
     "output_type": "stream",
     "text": [
      "\n",
      "Running GridSearchCV for XGBRegressor \n",
      "\n",
      "Fitting 5 folds for each of 1 candidates, totalling 5 fits\n",
      "\n",
      "Running GridSearchCV for DecisionTreeRegressor \n",
      "\n",
      "Fitting 5 folds for each of 1 candidates, totalling 5 fits\n",
      "\n",
      "Running GridSearchCV for RandomForestRegressor \n",
      "\n",
      "Fitting 5 folds for each of 1 candidates, totalling 5 fits\n",
      "\n",
      "Running GridSearchCV for GradientBoostingRegressor \n",
      "\n",
      "Fitting 5 folds for each of 1 candidates, totalling 5 fits\n",
      "\n",
      "Running GridSearchCV for ExtraTreesRegressor \n",
      "\n",
      "Fitting 5 folds for each of 1 candidates, totalling 5 fits\n",
      "\n",
      "Running GridSearchCV for AdaBoostRegressor \n",
      "\n",
      "Fitting 5 folds for each of 1 candidates, totalling 5 fits\n"
     ]
    }
   ],
   "source": [
    "from sklearn.metrics import make_scorer, recall_score\n",
    "search = HyperparameterOptimizationSearch(models=models_quick_search, params=params_quick_search)\n",
    "search.fit(X_train, y_train,\n",
    "           scoring = 'r2',\n",
    "           n_jobs=-1, cv=5)"
   ]
  },
  {
   "cell_type": "markdown",
   "id": "6a48f709-864b-4e1c-a0df-bf8a86f7a5ba",
   "metadata": {},
   "source": [
    "Check for results"
   ]
  },
  {
   "cell_type": "code",
   "execution_count": 13,
   "id": "d025c5bc-dae7-4647-9fa6-c3ed58903017",
   "metadata": {},
   "outputs": [
    {
     "data": {
      "text/html": [
       "<div>\n",
       "<style scoped>\n",
       "    .dataframe tbody tr th:only-of-type {\n",
       "        vertical-align: middle;\n",
       "    }\n",
       "\n",
       "    .dataframe tbody tr th {\n",
       "        vertical-align: top;\n",
       "    }\n",
       "\n",
       "    .dataframe thead th {\n",
       "        text-align: right;\n",
       "    }\n",
       "</style>\n",
       "<table border=\"1\" class=\"dataframe\">\n",
       "  <thead>\n",
       "    <tr style=\"text-align: right;\">\n",
       "      <th></th>\n",
       "      <th>estimator</th>\n",
       "      <th>min_score</th>\n",
       "      <th>mean_score</th>\n",
       "      <th>max_score</th>\n",
       "      <th>std_score</th>\n",
       "    </tr>\n",
       "  </thead>\n",
       "  <tbody>\n",
       "    <tr>\n",
       "      <th>4</th>\n",
       "      <td>GradientBoostingRegressor</td>\n",
       "      <td>0.643677</td>\n",
       "      <td>0.776681</td>\n",
       "      <td>0.826127</td>\n",
       "      <td>0.0675</td>\n",
       "    </tr>\n",
       "    <tr>\n",
       "      <th>5</th>\n",
       "      <td>ExtraTreesRegressor</td>\n",
       "      <td>0.682763</td>\n",
       "      <td>0.754073</td>\n",
       "      <td>0.786768</td>\n",
       "      <td>0.036548</td>\n",
       "    </tr>\n",
       "    <tr>\n",
       "      <th>3</th>\n",
       "      <td>RandomForestRegressor</td>\n",
       "      <td>0.618595</td>\n",
       "      <td>0.719973</td>\n",
       "      <td>0.787277</td>\n",
       "      <td>0.056429</td>\n",
       "    </tr>\n",
       "    <tr>\n",
       "      <th>6</th>\n",
       "      <td>AdaBoostRegressor</td>\n",
       "      <td>0.624003</td>\n",
       "      <td>0.707547</td>\n",
       "      <td>0.749044</td>\n",
       "      <td>0.049521</td>\n",
       "    </tr>\n",
       "    <tr>\n",
       "      <th>1</th>\n",
       "      <td>XGBRegressor</td>\n",
       "      <td>0.637822</td>\n",
       "      <td>0.67607</td>\n",
       "      <td>0.711843</td>\n",
       "      <td>0.027401</td>\n",
       "    </tr>\n",
       "    <tr>\n",
       "      <th>2</th>\n",
       "      <td>DecisionTreeRegressor</td>\n",
       "      <td>0.352005</td>\n",
       "      <td>0.557464</td>\n",
       "      <td>0.627322</td>\n",
       "      <td>0.104766</td>\n",
       "    </tr>\n",
       "    <tr>\n",
       "      <th>0</th>\n",
       "      <td>LogisticRegression</td>\n",
       "      <td>0.41619</td>\n",
       "      <td>0.502659</td>\n",
       "      <td>0.582253</td>\n",
       "      <td>0.069263</td>\n",
       "    </tr>\n",
       "  </tbody>\n",
       "</table>\n",
       "</div>"
      ],
      "text/plain": [
       "                   estimator min_score mean_score max_score std_score\n",
       "4  GradientBoostingRegressor  0.643677   0.776681  0.826127    0.0675\n",
       "5        ExtraTreesRegressor  0.682763   0.754073  0.786768  0.036548\n",
       "3      RandomForestRegressor  0.618595   0.719973  0.787277  0.056429\n",
       "6          AdaBoostRegressor  0.624003   0.707547  0.749044  0.049521\n",
       "1               XGBRegressor  0.637822    0.67607  0.711843  0.027401\n",
       "2      DecisionTreeRegressor  0.352005   0.557464  0.627322  0.104766\n",
       "0         LogisticRegression   0.41619   0.502659  0.582253  0.069263"
      ]
     },
     "execution_count": 13,
     "metadata": {},
     "output_type": "execute_result"
    }
   ],
   "source": [
    "grid_search_summary, grid_search_pipelines = search.score_summary(sort_by='mean_score')\n",
    "grid_search_summary "
   ]
  },
  {
   "cell_type": "markdown",
   "id": "4e47f333-2058-4ba7-a8a6-713c8347aaff",
   "metadata": {},
   "source": [
    "From the results we will be carrying out an extensive search on GradientBoostingReressor as it seems to be giving us the best results for hyperparameter configuration"
   ]
  },
  {
   "cell_type": "markdown",
   "id": "ef79f3f5-32fd-44a7-b94a-5e1a92d25ecd",
   "metadata": {},
   "source": [
    "## Extensive search on GradientBoostingReressor"
   ]
  },
  {
   "cell_type": "markdown",
   "id": "fd43bd7d-0581-401c-88b7-1fd88c03c0c9",
   "metadata": {},
   "source": [
    "We define models needed for extensive search"
   ]
  },
  {
   "cell_type": "code",
   "execution_count": 14,
   "id": "c72c4f77-05a8-490c-b17b-a350bb8dbbee",
   "metadata": {},
   "outputs": [],
   "source": [
    "models_search = {\n",
    "    \"GradientBoostingRegressor\":GradientBoostingRegressor(random_state=0),\n",
    "}\n",
    "\n",
    "params_search = {\"GradientBoostingRegressor\":{\n",
    "       'model__learning_rate': [0.1, 0.07], \n",
    "        'model__max_depth': [5],\n",
    "        'model__n_estimators': [50, 75],\n",
    "        'model__min_samples_split': [50, 75],\n",
    "        'model__min_samples_leaf': [25],\n",
    "        'model__random_state': [None, 10],\n",
    "        'model__subsample': [1.0, 0.8],\n",
    "        'model__max_leaf_nodes': [None],\n",
    "   }}"
   ]
  },
  {
   "cell_type": "markdown",
   "id": "70b885c8-006f-4e27-bfd4-ae95e73921d6",
   "metadata": {},
   "source": [
    "Extensive GridSearch CV"
   ]
  },
  {
   "cell_type": "code",
   "execution_count": 15,
   "id": "3edfb6a5-af07-40e5-8180-3791b9fbd64d",
   "metadata": {},
   "outputs": [
    {
     "name": "stdout",
     "output_type": "stream",
     "text": [
      "\n",
      "Running GridSearchCV for GradientBoostingRegressor \n",
      "\n",
      "Fitting 5 folds for each of 32 candidates, totalling 160 fits\n"
     ]
    }
   ],
   "source": [
    "search = HyperparameterOptimizationSearch(models=models_search, params=params_search)\n",
    "search.fit(X_train, y_train,\n",
    "           scoring = 'r2',\n",
    "           n_jobs=-1, cv=5)"
   ]
  },
  {
   "cell_type": "markdown",
   "id": "e22b2969-0017-4515-b5ea-38218896bdd0",
   "metadata": {},
   "source": [
    "We will check the results"
   ]
  },
  {
   "cell_type": "code",
   "execution_count": 16,
   "id": "10e10a1a-6bd8-498d-9a71-ec4da6dbf8ef",
   "metadata": {},
   "outputs": [
    {
     "data": {
      "text/html": [
       "<div>\n",
       "<style scoped>\n",
       "    .dataframe tbody tr th:only-of-type {\n",
       "        vertical-align: middle;\n",
       "    }\n",
       "\n",
       "    .dataframe tbody tr th {\n",
       "        vertical-align: top;\n",
       "    }\n",
       "\n",
       "    .dataframe thead th {\n",
       "        text-align: right;\n",
       "    }\n",
       "</style>\n",
       "<table border=\"1\" class=\"dataframe\">\n",
       "  <thead>\n",
       "    <tr style=\"text-align: right;\">\n",
       "      <th></th>\n",
       "      <th>estimator</th>\n",
       "      <th>min_score</th>\n",
       "      <th>mean_score</th>\n",
       "      <th>max_score</th>\n",
       "      <th>std_score</th>\n",
       "      <th>model__learning_rate</th>\n",
       "      <th>model__max_depth</th>\n",
       "      <th>model__max_leaf_nodes</th>\n",
       "      <th>model__min_samples_leaf</th>\n",
       "      <th>model__min_samples_split</th>\n",
       "      <th>model__n_estimators</th>\n",
       "      <th>model__random_state</th>\n",
       "      <th>model__subsample</th>\n",
       "    </tr>\n",
       "  </thead>\n",
       "  <tbody>\n",
       "    <tr>\n",
       "      <th>8</th>\n",
       "      <td>GradientBoostingRegressor</td>\n",
       "      <td>0.751164</td>\n",
       "      <td>0.81091</td>\n",
       "      <td>0.839904</td>\n",
       "      <td>0.035846</td>\n",
       "      <td>0.1</td>\n",
       "      <td>5</td>\n",
       "      <td>None</td>\n",
       "      <td>25</td>\n",
       "      <td>75</td>\n",
       "      <td>50</td>\n",
       "      <td>None</td>\n",
       "      <td>1.0</td>\n",
       "    </tr>\n",
       "    <tr>\n",
       "      <th>10</th>\n",
       "      <td>GradientBoostingRegressor</td>\n",
       "      <td>0.751164</td>\n",
       "      <td>0.81091</td>\n",
       "      <td>0.839904</td>\n",
       "      <td>0.035846</td>\n",
       "      <td>0.1</td>\n",
       "      <td>5</td>\n",
       "      <td>None</td>\n",
       "      <td>25</td>\n",
       "      <td>75</td>\n",
       "      <td>50</td>\n",
       "      <td>10</td>\n",
       "      <td>1.0</td>\n",
       "    </tr>\n",
       "    <tr>\n",
       "      <th>23</th>\n",
       "      <td>GradientBoostingRegressor</td>\n",
       "      <td>0.756529</td>\n",
       "      <td>0.810694</td>\n",
       "      <td>0.84356</td>\n",
       "      <td>0.03375</td>\n",
       "      <td>0.07</td>\n",
       "      <td>5</td>\n",
       "      <td>None</td>\n",
       "      <td>25</td>\n",
       "      <td>50</td>\n",
       "      <td>75</td>\n",
       "      <td>10</td>\n",
       "      <td>0.8</td>\n",
       "    </tr>\n",
       "    <tr>\n",
       "      <th>11</th>\n",
       "      <td>GradientBoostingRegressor</td>\n",
       "      <td>0.755881</td>\n",
       "      <td>0.810379</td>\n",
       "      <td>0.843445</td>\n",
       "      <td>0.03402</td>\n",
       "      <td>0.1</td>\n",
       "      <td>5</td>\n",
       "      <td>None</td>\n",
       "      <td>25</td>\n",
       "      <td>75</td>\n",
       "      <td>50</td>\n",
       "      <td>10</td>\n",
       "      <td>0.8</td>\n",
       "    </tr>\n",
       "    <tr>\n",
       "      <th>31</th>\n",
       "      <td>GradientBoostingRegressor</td>\n",
       "      <td>0.756439</td>\n",
       "      <td>0.810354</td>\n",
       "      <td>0.842758</td>\n",
       "      <td>0.032991</td>\n",
       "      <td>0.07</td>\n",
       "      <td>5</td>\n",
       "      <td>None</td>\n",
       "      <td>25</td>\n",
       "      <td>75</td>\n",
       "      <td>75</td>\n",
       "      <td>10</td>\n",
       "      <td>0.8</td>\n",
       "    </tr>\n",
       "    <tr>\n",
       "      <th>13</th>\n",
       "      <td>GradientBoostingRegressor</td>\n",
       "      <td>0.745281</td>\n",
       "      <td>0.81019</td>\n",
       "      <td>0.845268</td>\n",
       "      <td>0.038355</td>\n",
       "      <td>0.1</td>\n",
       "      <td>5</td>\n",
       "      <td>None</td>\n",
       "      <td>25</td>\n",
       "      <td>75</td>\n",
       "      <td>75</td>\n",
       "      <td>None</td>\n",
       "      <td>0.8</td>\n",
       "    </tr>\n",
       "    <tr>\n",
       "      <th>15</th>\n",
       "      <td>GradientBoostingRegressor</td>\n",
       "      <td>0.751367</td>\n",
       "      <td>0.810083</td>\n",
       "      <td>0.841907</td>\n",
       "      <td>0.034809</td>\n",
       "      <td>0.1</td>\n",
       "      <td>5</td>\n",
       "      <td>None</td>\n",
       "      <td>25</td>\n",
       "      <td>75</td>\n",
       "      <td>75</td>\n",
       "      <td>10</td>\n",
       "      <td>0.8</td>\n",
       "    </tr>\n",
       "    <tr>\n",
       "      <th>12</th>\n",
       "      <td>GradientBoostingRegressor</td>\n",
       "      <td>0.744441</td>\n",
       "      <td>0.810048</td>\n",
       "      <td>0.840092</td>\n",
       "      <td>0.037682</td>\n",
       "      <td>0.1</td>\n",
       "      <td>5</td>\n",
       "      <td>None</td>\n",
       "      <td>25</td>\n",
       "      <td>75</td>\n",
       "      <td>75</td>\n",
       "      <td>None</td>\n",
       "      <td>1.0</td>\n",
       "    </tr>\n",
       "    <tr>\n",
       "      <th>14</th>\n",
       "      <td>GradientBoostingRegressor</td>\n",
       "      <td>0.744441</td>\n",
       "      <td>0.810048</td>\n",
       "      <td>0.840092</td>\n",
       "      <td>0.037682</td>\n",
       "      <td>0.1</td>\n",
       "      <td>5</td>\n",
       "      <td>None</td>\n",
       "      <td>25</td>\n",
       "      <td>75</td>\n",
       "      <td>75</td>\n",
       "      <td>10</td>\n",
       "      <td>1.0</td>\n",
       "    </tr>\n",
       "    <tr>\n",
       "      <th>3</th>\n",
       "      <td>GradientBoostingRegressor</td>\n",
       "      <td>0.752866</td>\n",
       "      <td>0.809548</td>\n",
       "      <td>0.845306</td>\n",
       "      <td>0.035235</td>\n",
       "      <td>0.1</td>\n",
       "      <td>5</td>\n",
       "      <td>None</td>\n",
       "      <td>25</td>\n",
       "      <td>50</td>\n",
       "      <td>50</td>\n",
       "      <td>10</td>\n",
       "      <td>0.8</td>\n",
       "    </tr>\n",
       "    <tr>\n",
       "      <th>30</th>\n",
       "      <td>GradientBoostingRegressor</td>\n",
       "      <td>0.749505</td>\n",
       "      <td>0.809222</td>\n",
       "      <td>0.841291</td>\n",
       "      <td>0.036232</td>\n",
       "      <td>0.07</td>\n",
       "      <td>5</td>\n",
       "      <td>None</td>\n",
       "      <td>25</td>\n",
       "      <td>75</td>\n",
       "      <td>75</td>\n",
       "      <td>10</td>\n",
       "      <td>1.0</td>\n",
       "    </tr>\n",
       "    <tr>\n",
       "      <th>28</th>\n",
       "      <td>GradientBoostingRegressor</td>\n",
       "      <td>0.749505</td>\n",
       "      <td>0.809222</td>\n",
       "      <td>0.841291</td>\n",
       "      <td>0.036232</td>\n",
       "      <td>0.07</td>\n",
       "      <td>5</td>\n",
       "      <td>None</td>\n",
       "      <td>25</td>\n",
       "      <td>75</td>\n",
       "      <td>75</td>\n",
       "      <td>None</td>\n",
       "      <td>1.0</td>\n",
       "    </tr>\n",
       "    <tr>\n",
       "      <th>7</th>\n",
       "      <td>GradientBoostingRegressor</td>\n",
       "      <td>0.74931</td>\n",
       "      <td>0.808577</td>\n",
       "      <td>0.843076</td>\n",
       "      <td>0.035227</td>\n",
       "      <td>0.1</td>\n",
       "      <td>5</td>\n",
       "      <td>None</td>\n",
       "      <td>25</td>\n",
       "      <td>50</td>\n",
       "      <td>75</td>\n",
       "      <td>10</td>\n",
       "      <td>0.8</td>\n",
       "    </tr>\n",
       "    <tr>\n",
       "      <th>21</th>\n",
       "      <td>GradientBoostingRegressor</td>\n",
       "      <td>0.750326</td>\n",
       "      <td>0.808559</td>\n",
       "      <td>0.840281</td>\n",
       "      <td>0.034842</td>\n",
       "      <td>0.07</td>\n",
       "      <td>5</td>\n",
       "      <td>None</td>\n",
       "      <td>25</td>\n",
       "      <td>50</td>\n",
       "      <td>75</td>\n",
       "      <td>None</td>\n",
       "      <td>0.8</td>\n",
       "    </tr>\n",
       "    <tr>\n",
       "      <th>1</th>\n",
       "      <td>GradientBoostingRegressor</td>\n",
       "      <td>0.753209</td>\n",
       "      <td>0.808159</td>\n",
       "      <td>0.837828</td>\n",
       "      <td>0.035091</td>\n",
       "      <td>0.1</td>\n",
       "      <td>5</td>\n",
       "      <td>None</td>\n",
       "      <td>25</td>\n",
       "      <td>50</td>\n",
       "      <td>50</td>\n",
       "      <td>None</td>\n",
       "      <td>0.8</td>\n",
       "    </tr>\n",
       "    <tr>\n",
       "      <th>29</th>\n",
       "      <td>GradientBoostingRegressor</td>\n",
       "      <td>0.752807</td>\n",
       "      <td>0.807976</td>\n",
       "      <td>0.83916</td>\n",
       "      <td>0.034415</td>\n",
       "      <td>0.07</td>\n",
       "      <td>5</td>\n",
       "      <td>None</td>\n",
       "      <td>25</td>\n",
       "      <td>75</td>\n",
       "      <td>75</td>\n",
       "      <td>None</td>\n",
       "      <td>0.8</td>\n",
       "    </tr>\n",
       "    <tr>\n",
       "      <th>0</th>\n",
       "      <td>GradientBoostingRegressor</td>\n",
       "      <td>0.747869</td>\n",
       "      <td>0.807973</td>\n",
       "      <td>0.839716</td>\n",
       "      <td>0.036894</td>\n",
       "      <td>0.1</td>\n",
       "      <td>5</td>\n",
       "      <td>None</td>\n",
       "      <td>25</td>\n",
       "      <td>50</td>\n",
       "      <td>50</td>\n",
       "      <td>None</td>\n",
       "      <td>1.0</td>\n",
       "    </tr>\n",
       "    <tr>\n",
       "      <th>2</th>\n",
       "      <td>GradientBoostingRegressor</td>\n",
       "      <td>0.747869</td>\n",
       "      <td>0.807973</td>\n",
       "      <td>0.839716</td>\n",
       "      <td>0.036894</td>\n",
       "      <td>0.1</td>\n",
       "      <td>5</td>\n",
       "      <td>None</td>\n",
       "      <td>25</td>\n",
       "      <td>50</td>\n",
       "      <td>50</td>\n",
       "      <td>10</td>\n",
       "      <td>1.0</td>\n",
       "    </tr>\n",
       "    <tr>\n",
       "      <th>19</th>\n",
       "      <td>GradientBoostingRegressor</td>\n",
       "      <td>0.758804</td>\n",
       "      <td>0.807951</td>\n",
       "      <td>0.840421</td>\n",
       "      <td>0.033021</td>\n",
       "      <td>0.07</td>\n",
       "      <td>5</td>\n",
       "      <td>None</td>\n",
       "      <td>25</td>\n",
       "      <td>50</td>\n",
       "      <td>50</td>\n",
       "      <td>10</td>\n",
       "      <td>0.8</td>\n",
       "    </tr>\n",
       "    <tr>\n",
       "      <th>9</th>\n",
       "      <td>GradientBoostingRegressor</td>\n",
       "      <td>0.749026</td>\n",
       "      <td>0.807846</td>\n",
       "      <td>0.839195</td>\n",
       "      <td>0.036543</td>\n",
       "      <td>0.1</td>\n",
       "      <td>5</td>\n",
       "      <td>None</td>\n",
       "      <td>25</td>\n",
       "      <td>75</td>\n",
       "      <td>50</td>\n",
       "      <td>None</td>\n",
       "      <td>0.8</td>\n",
       "    </tr>\n",
       "    <tr>\n",
       "      <th>20</th>\n",
       "      <td>GradientBoostingRegressor</td>\n",
       "      <td>0.746083</td>\n",
       "      <td>0.807518</td>\n",
       "      <td>0.838004</td>\n",
       "      <td>0.037222</td>\n",
       "      <td>0.07</td>\n",
       "      <td>5</td>\n",
       "      <td>None</td>\n",
       "      <td>25</td>\n",
       "      <td>50</td>\n",
       "      <td>75</td>\n",
       "      <td>None</td>\n",
       "      <td>1.0</td>\n",
       "    </tr>\n",
       "    <tr>\n",
       "      <th>22</th>\n",
       "      <td>GradientBoostingRegressor</td>\n",
       "      <td>0.746083</td>\n",
       "      <td>0.807518</td>\n",
       "      <td>0.838004</td>\n",
       "      <td>0.037222</td>\n",
       "      <td>0.07</td>\n",
       "      <td>5</td>\n",
       "      <td>None</td>\n",
       "      <td>25</td>\n",
       "      <td>50</td>\n",
       "      <td>75</td>\n",
       "      <td>10</td>\n",
       "      <td>1.0</td>\n",
       "    </tr>\n",
       "    <tr>\n",
       "      <th>27</th>\n",
       "      <td>GradientBoostingRegressor</td>\n",
       "      <td>0.756813</td>\n",
       "      <td>0.80708</td>\n",
       "      <td>0.841632</td>\n",
       "      <td>0.032681</td>\n",
       "      <td>0.07</td>\n",
       "      <td>5</td>\n",
       "      <td>None</td>\n",
       "      <td>25</td>\n",
       "      <td>75</td>\n",
       "      <td>50</td>\n",
       "      <td>10</td>\n",
       "      <td>0.8</td>\n",
       "    </tr>\n",
       "    <tr>\n",
       "      <th>5</th>\n",
       "      <td>GradientBoostingRegressor</td>\n",
       "      <td>0.745911</td>\n",
       "      <td>0.807079</td>\n",
       "      <td>0.84182</td>\n",
       "      <td>0.038739</td>\n",
       "      <td>0.1</td>\n",
       "      <td>5</td>\n",
       "      <td>None</td>\n",
       "      <td>25</td>\n",
       "      <td>50</td>\n",
       "      <td>75</td>\n",
       "      <td>None</td>\n",
       "      <td>0.8</td>\n",
       "    </tr>\n",
       "    <tr>\n",
       "      <th>26</th>\n",
       "      <td>GradientBoostingRegressor</td>\n",
       "      <td>0.752763</td>\n",
       "      <td>0.807022</td>\n",
       "      <td>0.841336</td>\n",
       "      <td>0.035967</td>\n",
       "      <td>0.07</td>\n",
       "      <td>5</td>\n",
       "      <td>None</td>\n",
       "      <td>25</td>\n",
       "      <td>75</td>\n",
       "      <td>50</td>\n",
       "      <td>10</td>\n",
       "      <td>1.0</td>\n",
       "    </tr>\n",
       "    <tr>\n",
       "      <th>24</th>\n",
       "      <td>GradientBoostingRegressor</td>\n",
       "      <td>0.752763</td>\n",
       "      <td>0.807022</td>\n",
       "      <td>0.841336</td>\n",
       "      <td>0.035967</td>\n",
       "      <td>0.07</td>\n",
       "      <td>5</td>\n",
       "      <td>None</td>\n",
       "      <td>25</td>\n",
       "      <td>75</td>\n",
       "      <td>50</td>\n",
       "      <td>None</td>\n",
       "      <td>1.0</td>\n",
       "    </tr>\n",
       "    <tr>\n",
       "      <th>6</th>\n",
       "      <td>GradientBoostingRegressor</td>\n",
       "      <td>0.740324</td>\n",
       "      <td>0.806759</td>\n",
       "      <td>0.841148</td>\n",
       "      <td>0.038869</td>\n",
       "      <td>0.1</td>\n",
       "      <td>5</td>\n",
       "      <td>None</td>\n",
       "      <td>25</td>\n",
       "      <td>50</td>\n",
       "      <td>75</td>\n",
       "      <td>10</td>\n",
       "      <td>1.0</td>\n",
       "    </tr>\n",
       "    <tr>\n",
       "      <th>4</th>\n",
       "      <td>GradientBoostingRegressor</td>\n",
       "      <td>0.740324</td>\n",
       "      <td>0.806759</td>\n",
       "      <td>0.841148</td>\n",
       "      <td>0.038869</td>\n",
       "      <td>0.1</td>\n",
       "      <td>5</td>\n",
       "      <td>None</td>\n",
       "      <td>25</td>\n",
       "      <td>50</td>\n",
       "      <td>75</td>\n",
       "      <td>None</td>\n",
       "      <td>1.0</td>\n",
       "    </tr>\n",
       "    <tr>\n",
       "      <th>18</th>\n",
       "      <td>GradientBoostingRegressor</td>\n",
       "      <td>0.751488</td>\n",
       "      <td>0.805696</td>\n",
       "      <td>0.836424</td>\n",
       "      <td>0.035252</td>\n",
       "      <td>0.07</td>\n",
       "      <td>5</td>\n",
       "      <td>None</td>\n",
       "      <td>25</td>\n",
       "      <td>50</td>\n",
       "      <td>50</td>\n",
       "      <td>10</td>\n",
       "      <td>1.0</td>\n",
       "    </tr>\n",
       "    <tr>\n",
       "      <th>16</th>\n",
       "      <td>GradientBoostingRegressor</td>\n",
       "      <td>0.751488</td>\n",
       "      <td>0.805696</td>\n",
       "      <td>0.836424</td>\n",
       "      <td>0.035252</td>\n",
       "      <td>0.07</td>\n",
       "      <td>5</td>\n",
       "      <td>None</td>\n",
       "      <td>25</td>\n",
       "      <td>50</td>\n",
       "      <td>50</td>\n",
       "      <td>None</td>\n",
       "      <td>1.0</td>\n",
       "    </tr>\n",
       "    <tr>\n",
       "      <th>17</th>\n",
       "      <td>GradientBoostingRegressor</td>\n",
       "      <td>0.751856</td>\n",
       "      <td>0.805046</td>\n",
       "      <td>0.835733</td>\n",
       "      <td>0.035583</td>\n",
       "      <td>0.07</td>\n",
       "      <td>5</td>\n",
       "      <td>None</td>\n",
       "      <td>25</td>\n",
       "      <td>50</td>\n",
       "      <td>50</td>\n",
       "      <td>None</td>\n",
       "      <td>0.8</td>\n",
       "    </tr>\n",
       "    <tr>\n",
       "      <th>25</th>\n",
       "      <td>GradientBoostingRegressor</td>\n",
       "      <td>0.753858</td>\n",
       "      <td>0.804409</td>\n",
       "      <td>0.839328</td>\n",
       "      <td>0.035299</td>\n",
       "      <td>0.07</td>\n",
       "      <td>5</td>\n",
       "      <td>None</td>\n",
       "      <td>25</td>\n",
       "      <td>75</td>\n",
       "      <td>50</td>\n",
       "      <td>None</td>\n",
       "      <td>0.8</td>\n",
       "    </tr>\n",
       "  </tbody>\n",
       "</table>\n",
       "</div>"
      ],
      "text/plain": [
       "                    estimator min_score mean_score max_score std_score  \\\n",
       "8   GradientBoostingRegressor  0.751164    0.81091  0.839904  0.035846   \n",
       "10  GradientBoostingRegressor  0.751164    0.81091  0.839904  0.035846   \n",
       "23  GradientBoostingRegressor  0.756529   0.810694   0.84356   0.03375   \n",
       "11  GradientBoostingRegressor  0.755881   0.810379  0.843445   0.03402   \n",
       "31  GradientBoostingRegressor  0.756439   0.810354  0.842758  0.032991   \n",
       "13  GradientBoostingRegressor  0.745281    0.81019  0.845268  0.038355   \n",
       "15  GradientBoostingRegressor  0.751367   0.810083  0.841907  0.034809   \n",
       "12  GradientBoostingRegressor  0.744441   0.810048  0.840092  0.037682   \n",
       "14  GradientBoostingRegressor  0.744441   0.810048  0.840092  0.037682   \n",
       "3   GradientBoostingRegressor  0.752866   0.809548  0.845306  0.035235   \n",
       "30  GradientBoostingRegressor  0.749505   0.809222  0.841291  0.036232   \n",
       "28  GradientBoostingRegressor  0.749505   0.809222  0.841291  0.036232   \n",
       "7   GradientBoostingRegressor   0.74931   0.808577  0.843076  0.035227   \n",
       "21  GradientBoostingRegressor  0.750326   0.808559  0.840281  0.034842   \n",
       "1   GradientBoostingRegressor  0.753209   0.808159  0.837828  0.035091   \n",
       "29  GradientBoostingRegressor  0.752807   0.807976   0.83916  0.034415   \n",
       "0   GradientBoostingRegressor  0.747869   0.807973  0.839716  0.036894   \n",
       "2   GradientBoostingRegressor  0.747869   0.807973  0.839716  0.036894   \n",
       "19  GradientBoostingRegressor  0.758804   0.807951  0.840421  0.033021   \n",
       "9   GradientBoostingRegressor  0.749026   0.807846  0.839195  0.036543   \n",
       "20  GradientBoostingRegressor  0.746083   0.807518  0.838004  0.037222   \n",
       "22  GradientBoostingRegressor  0.746083   0.807518  0.838004  0.037222   \n",
       "27  GradientBoostingRegressor  0.756813    0.80708  0.841632  0.032681   \n",
       "5   GradientBoostingRegressor  0.745911   0.807079   0.84182  0.038739   \n",
       "26  GradientBoostingRegressor  0.752763   0.807022  0.841336  0.035967   \n",
       "24  GradientBoostingRegressor  0.752763   0.807022  0.841336  0.035967   \n",
       "6   GradientBoostingRegressor  0.740324   0.806759  0.841148  0.038869   \n",
       "4   GradientBoostingRegressor  0.740324   0.806759  0.841148  0.038869   \n",
       "18  GradientBoostingRegressor  0.751488   0.805696  0.836424  0.035252   \n",
       "16  GradientBoostingRegressor  0.751488   0.805696  0.836424  0.035252   \n",
       "17  GradientBoostingRegressor  0.751856   0.805046  0.835733  0.035583   \n",
       "25  GradientBoostingRegressor  0.753858   0.804409  0.839328  0.035299   \n",
       "\n",
       "   model__learning_rate model__max_depth model__max_leaf_nodes  \\\n",
       "8                   0.1                5                  None   \n",
       "10                  0.1                5                  None   \n",
       "23                 0.07                5                  None   \n",
       "11                  0.1                5                  None   \n",
       "31                 0.07                5                  None   \n",
       "13                  0.1                5                  None   \n",
       "15                  0.1                5                  None   \n",
       "12                  0.1                5                  None   \n",
       "14                  0.1                5                  None   \n",
       "3                   0.1                5                  None   \n",
       "30                 0.07                5                  None   \n",
       "28                 0.07                5                  None   \n",
       "7                   0.1                5                  None   \n",
       "21                 0.07                5                  None   \n",
       "1                   0.1                5                  None   \n",
       "29                 0.07                5                  None   \n",
       "0                   0.1                5                  None   \n",
       "2                   0.1                5                  None   \n",
       "19                 0.07                5                  None   \n",
       "9                   0.1                5                  None   \n",
       "20                 0.07                5                  None   \n",
       "22                 0.07                5                  None   \n",
       "27                 0.07                5                  None   \n",
       "5                   0.1                5                  None   \n",
       "26                 0.07                5                  None   \n",
       "24                 0.07                5                  None   \n",
       "6                   0.1                5                  None   \n",
       "4                   0.1                5                  None   \n",
       "18                 0.07                5                  None   \n",
       "16                 0.07                5                  None   \n",
       "17                 0.07                5                  None   \n",
       "25                 0.07                5                  None   \n",
       "\n",
       "   model__min_samples_leaf model__min_samples_split model__n_estimators  \\\n",
       "8                       25                       75                  50   \n",
       "10                      25                       75                  50   \n",
       "23                      25                       50                  75   \n",
       "11                      25                       75                  50   \n",
       "31                      25                       75                  75   \n",
       "13                      25                       75                  75   \n",
       "15                      25                       75                  75   \n",
       "12                      25                       75                  75   \n",
       "14                      25                       75                  75   \n",
       "3                       25                       50                  50   \n",
       "30                      25                       75                  75   \n",
       "28                      25                       75                  75   \n",
       "7                       25                       50                  75   \n",
       "21                      25                       50                  75   \n",
       "1                       25                       50                  50   \n",
       "29                      25                       75                  75   \n",
       "0                       25                       50                  50   \n",
       "2                       25                       50                  50   \n",
       "19                      25                       50                  50   \n",
       "9                       25                       75                  50   \n",
       "20                      25                       50                  75   \n",
       "22                      25                       50                  75   \n",
       "27                      25                       75                  50   \n",
       "5                       25                       50                  75   \n",
       "26                      25                       75                  50   \n",
       "24                      25                       75                  50   \n",
       "6                       25                       50                  75   \n",
       "4                       25                       50                  75   \n",
       "18                      25                       50                  50   \n",
       "16                      25                       50                  50   \n",
       "17                      25                       50                  50   \n",
       "25                      25                       75                  50   \n",
       "\n",
       "   model__random_state model__subsample  \n",
       "8                 None              1.0  \n",
       "10                  10              1.0  \n",
       "23                  10              0.8  \n",
       "11                  10              0.8  \n",
       "31                  10              0.8  \n",
       "13                None              0.8  \n",
       "15                  10              0.8  \n",
       "12                None              1.0  \n",
       "14                  10              1.0  \n",
       "3                   10              0.8  \n",
       "30                  10              1.0  \n",
       "28                None              1.0  \n",
       "7                   10              0.8  \n",
       "21                None              0.8  \n",
       "1                 None              0.8  \n",
       "29                None              0.8  \n",
       "0                 None              1.0  \n",
       "2                   10              1.0  \n",
       "19                  10              0.8  \n",
       "9                 None              0.8  \n",
       "20                None              1.0  \n",
       "22                  10              1.0  \n",
       "27                  10              0.8  \n",
       "5                 None              0.8  \n",
       "26                  10              1.0  \n",
       "24                None              1.0  \n",
       "6                   10              1.0  \n",
       "4                 None              1.0  \n",
       "18                  10              1.0  \n",
       "16                None              1.0  \n",
       "17                None              0.8  \n",
       "25                None              0.8  "
      ]
     },
     "execution_count": 16,
     "metadata": {},
     "output_type": "execute_result"
    }
   ],
   "source": [
    "grid_search_summary, grid_search_pipelines = search.score_summary(sort_by='mean_score')\n",
    "grid_search_summary"
   ]
  },
  {
   "cell_type": "code",
   "execution_count": 17,
   "id": "35a2ab2d-99bd-44ff-9481-b166805f7da6",
   "metadata": {},
   "outputs": [
    {
     "data": {
      "text/plain": [
       "'GradientBoostingRegressor'"
      ]
     },
     "execution_count": 17,
     "metadata": {},
     "output_type": "execute_result"
    }
   ],
   "source": [
    "best_model = grid_search_summary.iloc[0,0]\n",
    "best_model"
   ]
  },
  {
   "cell_type": "markdown",
   "id": "35936321-78ea-47e0-a6bb-bb81318f1a5f",
   "metadata": {},
   "source": [
    "Check best parameters for model"
   ]
  },
  {
   "cell_type": "code",
   "execution_count": 18,
   "id": "64473f75-bec6-4e27-bb7b-5ca16c0e12a8",
   "metadata": {},
   "outputs": [
    {
     "data": {
      "text/plain": [
       "{'model__learning_rate': 0.1,\n",
       " 'model__max_depth': 5,\n",
       " 'model__max_leaf_nodes': None,\n",
       " 'model__min_samples_leaf': 25,\n",
       " 'model__min_samples_split': 75,\n",
       " 'model__n_estimators': 50,\n",
       " 'model__random_state': None,\n",
       " 'model__subsample': 1.0}"
      ]
     },
     "execution_count": 18,
     "metadata": {},
     "output_type": "execute_result"
    }
   ],
   "source": [
    "best_parameters = grid_search_pipelines[best_model].best_params_\n",
    "best_parameters"
   ]
  },
  {
   "cell_type": "markdown",
   "id": "9f8611f7-d114-4cf7-a29c-65397bfd4c9f",
   "metadata": {},
   "source": [
    "Best clf pipeline"
   ]
  },
  {
   "cell_type": "code",
   "execution_count": 19,
   "id": "ad4b1cf9-530a-4f3b-825f-d666a61a1a96",
   "metadata": {},
   "outputs": [
    {
     "data": {
      "text/plain": [
       "Pipeline(steps=[('scaler', StandardScaler()),\n",
       "                ('feat_selection',\n",
       "                 SelectFromModel(estimator=GradientBoostingRegressor(random_state=0))),\n",
       "                ('model',\n",
       "                 GradientBoostingRegressor(max_depth=5, min_samples_leaf=25,\n",
       "                                           min_samples_split=75,\n",
       "                                           n_estimators=50))])"
      ]
     },
     "execution_count": 19,
     "metadata": {},
     "output_type": "execute_result"
    }
   ],
   "source": [
    "pipeline_clf = grid_search_pipelines[best_model].best_estimator_\n",
    "pipeline_clf"
   ]
  },
  {
   "cell_type": "markdown",
   "id": "db23fbfe-c463-4ddc-a01b-5592371b739b",
   "metadata": {},
   "source": [
    "# Assess feature importance"
   ]
  },
  {
   "cell_type": "markdown",
   "id": "484c32c4-8416-4af6-8b77-2604f1963d8b",
   "metadata": {},
   "source": [
    "We will look find the most important features in the data"
   ]
  },
  {
   "cell_type": "code",
   "execution_count": 20,
   "id": "09137f94-f4ef-4d68-8418-18168d6197cc",
   "metadata": {},
   "outputs": [
    {
     "name": "stdout",
     "output_type": "stream",
     "text": [
      "* These are the 4 most important features in descending order. The model was trained on them: \n",
      "['OverallQual', 'TotalBsmtSF', 'GarageArea', '2ndFlrSF']\n"
     ]
    },
    {
     "data": {
      "image/png": "[encoded data removed]",
      "text/plain": [
       "<Figure size 640x480 with 1 Axes>"
      ]
     },
     "metadata": {},
     "output_type": "display_data"
    }
   ],
   "source": [
    "import matplotlib.pyplot as plt\n",
    "\n",
    "df_feature_importance = (pd.DataFrame(data={\n",
    "    'Feature': X_train.columns[pipeline_clf['feat_selection'].get_support()],\n",
    "    'Importance': pipeline_clf['model'].feature_importances_})\n",
    "    .sort_values(by='Importance', ascending=False)\n",
    ")\n",
    "\n",
    "\n",
    "best_features = df_feature_importance['Feature'].to_list()\n",
    "\n",
    "\n",
    "print(f\"* These are the {len(best_features)} most important features in descending order. \"\n",
    "      f\"The model was trained on them: \\n{df_feature_importance['Feature'].to_list()}\")\n",
    "\n",
    "df_feature_importance.plot(kind='bar', x='Feature', y='Importance')\n",
    "plt.show()"
   ]
  },
  {
   "cell_type": "markdown",
   "id": "333c5b31-e059-4c5b-97cf-ae997a50f84f",
   "metadata": {},
   "source": [
    "# Evaluate Pipeline on Train and Test Sets"
   ]
  },
  {
   "cell_type": "markdown",
   "id": "e387ac0a-03a8-4a43-be73-8a422cbe4400",
   "metadata": {},
   "source": [
    "Measure how close regression line is to data points with mean and absolute error"
   ]
  },
  {
   "cell_type": "code",
   "execution_count": 21,
   "id": "3f3d61b9-8c42-4a24-99b2-426659f7b021",
   "metadata": {},
   "outputs": [
    {
     "name": "stdout",
     "output_type": "stream",
     "text": [
      "Mean squared error\n"
     ]
    },
    {
     "data": {
      "text/plain": [
       "866939152.4767833"
      ]
     },
     "execution_count": 21,
     "metadata": {},
     "output_type": "execute_result"
    }
   ],
   "source": [
    "from sklearn.metrics import mean_squared_error\n",
    "\n",
    "predict = pipeline_clf.predict(X_train)\n",
    "print(\"Mean squared error\")\n",
    "mean_squared_error(y_train, predict)"
   ]
  },
  {
   "cell_type": "code",
   "execution_count": 22,
   "id": "d373a679-800a-4f12-886a-fcfeb3268dd4",
   "metadata": {},
   "outputs": [
    {
     "name": "stdout",
     "output_type": "stream",
     "text": [
      "Mean absolute error\n"
     ]
    },
    {
     "data": {
      "text/plain": [
       "19342.1257490966"
      ]
     },
     "execution_count": 22,
     "metadata": {},
     "output_type": "execute_result"
    }
   ],
   "source": [
    "from sklearn.metrics import mean_absolute_error\n",
    "\n",
    "predict = pipeline_clf.predict(X_train)\n",
    "print(\"Mean absolute error\")\n",
    "mean_absolute_error(y_train, predict)"
   ]
  },
  {
   "cell_type": "code",
   "execution_count": 23,
   "id": "1daeddbf-e93c-4907-a3a6-ba476338214e",
   "metadata": {},
   "outputs": [
    {
     "data": {
      "text/plain": [
       "0.8591936400353658"
      ]
     },
     "execution_count": 23,
     "metadata": {},
     "output_type": "execute_result"
    }
   ],
   "source": [
    "from sklearn.metrics import r2_score\n",
    "\n",
    "predict_test = pipeline_clf.predict(X_train)\n",
    "r2_score(y_train, predict)"
   ]
  },
  {
   "cell_type": "markdown",
   "id": "6b8ce2a0-619f-4ed9-940f-7078ccf57e04",
   "metadata": {},
   "source": [
    "It looks like the R2 score is good fit for our model"
   ]
  },
  {
   "cell_type": "code",
   "execution_count": 24,
   "id": "57deecaf-9892-4a3c-866f-fa1395cc8681",
   "metadata": {},
   "outputs": [
    {
     "data": {
      "text/plain": [
       "<AxesSubplot:ylabel='SalePrice'>"
      ]
     },
     "execution_count": 24,
     "metadata": {},
     "output_type": "execute_result"
    },
    {
     "data": {
      "image/png": "[encoded data removed]",
      "text/plain": [
       "<Figure size 640x480 with 1 Axes>"
      ]
     },
     "metadata": {},
     "output_type": "display_data"
    }
   ],
   "source": [
    "import seaborn as sns\n",
    "\n",
    "sns.scatterplot(x=predict, y=y_train, alpha=0.5)"
   ]
  },
  {
   "cell_type": "markdown",
   "id": "09619e5a-97d0-4434-b126-b2a59e26b936",
   "metadata": {},
   "source": [
    "And the data seems to be following a line in the middle. There is some scattered dots, but for the most of the data it's in close proximity of line."
   ]
  },
  {
   "cell_type": "markdown",
   "id": "955be3b7-83f7-4c1e-a0b0-7bc7cd018697",
   "metadata": {},
   "source": [
    "# Rewrite ML pipeline with the best features"
   ]
  },
  {
   "cell_type": "code",
   "execution_count": 25,
   "id": "dc8afa52-c7d9-4e51-803b-48a682160757",
   "metadata": {},
   "outputs": [],
   "source": [
    "def PipelineDataCleaningAndFeatureEngineering():\n",
    "    pipeline_base = Pipeline([\n",
    "        (\"DropFeatures\", DropFeatures(features_to_drop=['EnclosedPorch', 'WoodDeckSF'])),\n",
    "        (\"ArbitraryNumberImputer\", ArbitraryNumberImputer(arbitrary_number=0, variables=['MasVnrArea', '2ndFlrSF'])),\n",
    "        (\"CategoricalImputer\", CategoricalImputer(imputation_method='missing', fill_value='Unf', variables=['GarageFinish', 'BsmtFinType1'])),\n",
    "        (\"MeanMedianImputer\", MeanMedianImputer(imputation_method='median', variables=['LotFrontage', 'BedroomAbvGr', 'GarageYrBlt'])),\n",
    "        (\"OrdinalCategoricalEncoder\", OrdinalEncoder(encoding_method='arbitrary',\n",
    "                                                     variables=['BsmtExposure','BsmtFinType1','GarageFinish','KitchenQual'])),\n",
    "\n",
    "        (\"YeoJohnsonTransformer\", vt.YeoJohnsonTransformer(variables=['BsmtUnfSF', 'GarageArea'])),\n",
    "        (\"PowerTransformer\", vt.PowerTransformer(variables = ['1stFlrSF','LotArea', 'GrLivArea'], exp=0.5)),\n",
    "\n",
    "        (\"SmartCorrelatedSelection\", SmartCorrelatedSelection(variables=None,\n",
    "         method=\"spearman\", threshold=0.6, selection_method=\"variance\")),\n",
    "\n",
    "    ])\n",
    "\n",
    "    return pipeline_base"
   ]
  },
  {
   "cell_type": "code",
   "execution_count": 26,
   "id": "963c9ec8-de6e-46bf-99ea-d50c899f42be",
   "metadata": {},
   "outputs": [],
   "source": [
    "def PipelineClf(model):\n",
    "    pipeline_base = Pipeline([\n",
    "        (\"scaler\", StandardScaler()),\n",
    "        (\"feat_selection\", SelectFromModel(model)),\n",
    "        (\"model\", model),\n",
    "    ])\n",
    "\n",
    "    return pipeline_base"
   ]
  },
  {
   "cell_type": "markdown",
   "id": "b693772d-3bf9-4791-8b15-f2170c53f00b",
   "metadata": {},
   "source": [
    "We only apply the best parameters"
   ]
  },
  {
   "cell_type": "code",
   "execution_count": 27,
   "id": "7555839a-d849-447d-9e70-50accf243df6",
   "metadata": {},
   "outputs": [],
   "source": [
    "models_search = {\n",
    "    \"GradientBoostingRegressor\":GradientBoostingRegressor(random_state=0),\n",
    "}\n",
    "\n",
    "params_search = {\"GradientBoostingRegressor\":{\n",
    "       'model__learning_rate': [0.1], \n",
    "        'model__max_depth': [5],\n",
    "        'model__n_estimators': [50],\n",
    "        'model__min_samples_split': [75],\n",
    "        'model__min_samples_leaf': [25],\n",
    "        'model__random_state': [None],\n",
    "        'model__subsample': [1.0],\n",
    "        'model__max_leaf_nodes': [None],\n",
    "   }}"
   ]
  },
  {
   "cell_type": "code",
   "execution_count": 28,
   "id": "3f5d044f-d75a-4e95-bf99-66d56a3a7c9c",
   "metadata": {},
   "outputs": [
    {
     "name": "stdout",
     "output_type": "stream",
     "text": [
      "\n",
      "Running GridSearchCV for GradientBoostingRegressor \n",
      "\n",
      "Fitting 5 folds for each of 1 candidates, totalling 5 fits\n"
     ]
    }
   ],
   "source": [
    "search = HyperparameterOptimizationSearch(models=models_search, params=params_search)\n",
    "search.fit(X_train, y_train,\n",
    "           scoring = 'r2',\n",
    "           n_jobs=-1, cv=5)"
   ]
  },
  {
   "cell_type": "code",
   "execution_count": 29,
   "id": "bf034861-90f5-432e-b877-93e0dfbb8234",
   "metadata": {},
   "outputs": [
    {
     "data": {
      "text/html": [
       "<div>\n",
       "<style scoped>\n",
       "    .dataframe tbody tr th:only-of-type {\n",
       "        vertical-align: middle;\n",
       "    }\n",
       "\n",
       "    .dataframe tbody tr th {\n",
       "        vertical-align: top;\n",
       "    }\n",
       "\n",
       "    .dataframe thead th {\n",
       "        text-align: right;\n",
       "    }\n",
       "</style>\n",
       "<table border=\"1\" class=\"dataframe\">\n",
       "  <thead>\n",
       "    <tr style=\"text-align: right;\">\n",
       "      <th></th>\n",
       "      <th>estimator</th>\n",
       "      <th>min_score</th>\n",
       "      <th>mean_score</th>\n",
       "      <th>max_score</th>\n",
       "      <th>std_score</th>\n",
       "      <th>model__learning_rate</th>\n",
       "      <th>model__max_depth</th>\n",
       "      <th>model__max_leaf_nodes</th>\n",
       "      <th>model__min_samples_leaf</th>\n",
       "      <th>model__min_samples_split</th>\n",
       "      <th>model__n_estimators</th>\n",
       "      <th>model__random_state</th>\n",
       "      <th>model__subsample</th>\n",
       "    </tr>\n",
       "  </thead>\n",
       "  <tbody>\n",
       "    <tr>\n",
       "      <th>0</th>\n",
       "      <td>GradientBoostingRegressor</td>\n",
       "      <td>0.751164</td>\n",
       "      <td>0.81091</td>\n",
       "      <td>0.839904</td>\n",
       "      <td>0.035846</td>\n",
       "      <td>0.1</td>\n",
       "      <td>5</td>\n",
       "      <td>None</td>\n",
       "      <td>25</td>\n",
       "      <td>75</td>\n",
       "      <td>50</td>\n",
       "      <td>None</td>\n",
       "      <td>1.0</td>\n",
       "    </tr>\n",
       "  </tbody>\n",
       "</table>\n",
       "</div>"
      ],
      "text/plain": [
       "                   estimator min_score mean_score max_score std_score  \\\n",
       "0  GradientBoostingRegressor  0.751164    0.81091  0.839904  0.035846   \n",
       "\n",
       "  model__learning_rate model__max_depth model__max_leaf_nodes  \\\n",
       "0                  0.1                5                  None   \n",
       "\n",
       "  model__min_samples_leaf model__min_samples_split model__n_estimators  \\\n",
       "0                      25                       75                  50   \n",
       "\n",
       "  model__random_state model__subsample  \n",
       "0                None              1.0  "
      ]
     },
     "execution_count": 29,
     "metadata": {},
     "output_type": "execute_result"
    }
   ],
   "source": [
    "grid_search_summary, grid_search_pipelines = search.score_summary(sort_by='mean_score')\n",
    "grid_search_summary"
   ]
  },
  {
   "cell_type": "code",
   "execution_count": 30,
   "id": "c83f3f58-751e-43e0-9314-33095b84a522",
   "metadata": {},
   "outputs": [
    {
     "name": "stdout",
     "output_type": "stream",
     "text": [
      "(1168, 4) (1168,) (292, 4) (292,)\n"
     ]
    },
    {
     "data": {
      "text/html": [
       "<div>\n",
       "<style scoped>\n",
       "    .dataframe tbody tr th:only-of-type {\n",
       "        vertical-align: middle;\n",
       "    }\n",
       "\n",
       "    .dataframe tbody tr th {\n",
       "        vertical-align: top;\n",
       "    }\n",
       "\n",
       "    .dataframe thead th {\n",
       "        text-align: right;\n",
       "    }\n",
       "</style>\n",
       "<table border=\"1\" class=\"dataframe\">\n",
       "  <thead>\n",
       "    <tr style=\"text-align: right;\">\n",
       "      <th></th>\n",
       "      <th>OverallQual</th>\n",
       "      <th>TotalBsmtSF</th>\n",
       "      <th>GarageArea</th>\n",
       "      <th>2ndFlrSF</th>\n",
       "    </tr>\n",
       "  </thead>\n",
       "  <tbody>\n",
       "    <tr>\n",
       "      <th>618</th>\n",
       "      <td>9</td>\n",
       "      <td>1822</td>\n",
       "      <td>285.045723</td>\n",
       "      <td>0.0</td>\n",
       "    </tr>\n",
       "    <tr>\n",
       "      <th>870</th>\n",
       "      <td>5</td>\n",
       "      <td>894</td>\n",
       "      <td>133.391173</td>\n",
       "      <td>0.0</td>\n",
       "    </tr>\n",
       "    <tr>\n",
       "      <th>92</th>\n",
       "      <td>5</td>\n",
       "      <td>876</td>\n",
       "      <td>176.329005</td>\n",
       "      <td>0.0</td>\n",
       "    </tr>\n",
       "  </tbody>\n",
       "</table>\n",
       "</div>"
      ],
      "text/plain": [
       "     OverallQual  TotalBsmtSF  GarageArea  2ndFlrSF\n",
       "618            9         1822  285.045723       0.0\n",
       "870            5          894  133.391173       0.0\n",
       "92             5          876  176.329005       0.0"
      ]
     },
     "execution_count": 30,
     "metadata": {},
     "output_type": "execute_result"
    }
   ],
   "source": [
    "X_train = X_train.filter(best_features)\n",
    "X_test = X_test.filter(best_features)\n",
    "\n",
    "print(X_train.shape, y_train.shape, X_test.shape, y_test.shape)\n",
    "X_train.head(3)"
   ]
  },
  {
   "cell_type": "markdown",
   "id": "fd143616-4e17-4861-8400-0c55d635e1ec",
   "metadata": {},
   "source": [
    "Now we know what the best features are we can write them in a pipeline"
   ]
  },
  {
   "cell_type": "code",
   "execution_count": 40,
   "id": "ce842f22-4dfc-4086-a3ac-d548d1829418",
   "metadata": {},
   "outputs": [],
   "source": [
    "def SimplifiedPipelineEngineering():\n",
    "    pipeline_smpl = Pipeline([\n",
    "        (\"ArbitraryNumberImputer\", ArbitraryNumberImputer(arbitrary_number=0, variables=['2ndFlrSF'])),\n",
    "\n",
    "        (\"YeoJohnsonTransformer\", vt.YeoJohnsonTransformer(variables=['GarageArea'])),\n",
    "\n",
    "    ])\n",
    "\n",
    "    return pipeline_smpl"
   ]
  },
  {
   "cell_type": "code",
   "execution_count": 41,
   "id": "56e6c8f0-ad63-4a26-87f1-d627b0f688eb",
   "metadata": {},
   "outputs": [],
   "source": [
    "def PipelineClf(model):\n",
    "    pipeline_base = Pipeline([\n",
    "        (\"scaler\", StandardScaler()),\n",
    "        (\"model\", model),\n",
    "    ])\n",
    "\n",
    "    return pipeline_base"
   ]
  },
  {
   "cell_type": "markdown",
   "id": "39b33e5e-8e51-4a65-bc65-5c856285a48c",
   "metadata": {},
   "source": [
    "Again apply only the best parameters as previously"
   ]
  },
  {
   "cell_type": "code",
   "execution_count": 42,
   "id": "702d73e9-fa8f-4615-b07a-b9bee3786962",
   "metadata": {},
   "outputs": [],
   "source": [
    "models_search = {\n",
    "    \"GradientBoostingRegressor\":GradientBoostingRegressor(random_state=0),\n",
    "}\n",
    "\n",
    "params_search = {\"GradientBoostingRegressor\":{\n",
    "       'model__learning_rate': [0.1], \n",
    "        'model__max_depth': [5],\n",
    "        'model__n_estimators': [50],\n",
    "        'model__min_samples_split': [75],\n",
    "        'model__min_samples_leaf': [25],\n",
    "        'model__random_state': [None],\n",
    "        'model__subsample': [1.0],\n",
    "        'model__max_leaf_nodes': [None],\n",
    "   }}"
   ]
  },
  {
   "cell_type": "code",
   "execution_count": 43,
   "id": "03becce2-e588-4c49-ab17-f6c48dec2495",
   "metadata": {},
   "outputs": [
    {
     "name": "stdout",
     "output_type": "stream",
     "text": [
      "\n",
      "Running GridSearchCV for GradientBoostingRegressor \n",
      "\n",
      "Fitting 5 folds for each of 1 candidates, totalling 5 fits\n"
     ]
    }
   ],
   "source": [
    "search = HyperparameterOptimizationSearch(models=models_search, params=params_search)\n",
    "search.fit(X_train, y_train,\n",
    "           scoring = 'r2',\n",
    "           n_jobs=-1, cv=5)"
   ]
  },
  {
   "cell_type": "markdown",
   "id": "966741b5-6fc2-4e67-bebc-f1f947bdb798",
   "metadata": {},
   "source": [
    "Check the result"
   ]
  },
  {
   "cell_type": "code",
   "execution_count": 44,
   "id": "e39101a9-a2f1-484e-a187-6e5a4ab099ff",
   "metadata": {},
   "outputs": [
    {
     "data": {
      "text/html": [
       "<div>\n",
       "<style scoped>\n",
       "    .dataframe tbody tr th:only-of-type {\n",
       "        vertical-align: middle;\n",
       "    }\n",
       "\n",
       "    .dataframe tbody tr th {\n",
       "        vertical-align: top;\n",
       "    }\n",
       "\n",
       "    .dataframe thead th {\n",
       "        text-align: right;\n",
       "    }\n",
       "</style>\n",
       "<table border=\"1\" class=\"dataframe\">\n",
       "  <thead>\n",
       "    <tr style=\"text-align: right;\">\n",
       "      <th></th>\n",
       "      <th>estimator</th>\n",
       "      <th>min_score</th>\n",
       "      <th>mean_score</th>\n",
       "      <th>max_score</th>\n",
       "      <th>std_score</th>\n",
       "      <th>model__learning_rate</th>\n",
       "      <th>model__max_depth</th>\n",
       "      <th>model__max_leaf_nodes</th>\n",
       "      <th>model__min_samples_leaf</th>\n",
       "      <th>model__min_samples_split</th>\n",
       "      <th>model__n_estimators</th>\n",
       "      <th>model__random_state</th>\n",
       "      <th>model__subsample</th>\n",
       "    </tr>\n",
       "  </thead>\n",
       "  <tbody>\n",
       "    <tr>\n",
       "      <th>0</th>\n",
       "      <td>GradientBoostingRegressor</td>\n",
       "      <td>0.751164</td>\n",
       "      <td>0.80696</td>\n",
       "      <td>0.839904</td>\n",
       "      <td>0.039137</td>\n",
       "      <td>0.1</td>\n",
       "      <td>5</td>\n",
       "      <td>None</td>\n",
       "      <td>25</td>\n",
       "      <td>75</td>\n",
       "      <td>50</td>\n",
       "      <td>None</td>\n",
       "      <td>1.0</td>\n",
       "    </tr>\n",
       "  </tbody>\n",
       "</table>\n",
       "</div>"
      ],
      "text/plain": [
       "                   estimator min_score mean_score max_score std_score  \\\n",
       "0  GradientBoostingRegressor  0.751164    0.80696  0.839904  0.039137   \n",
       "\n",
       "  model__learning_rate model__max_depth model__max_leaf_nodes  \\\n",
       "0                  0.1                5                  None   \n",
       "\n",
       "  model__min_samples_leaf model__min_samples_split model__n_estimators  \\\n",
       "0                      25                       75                  50   \n",
       "\n",
       "  model__random_state model__subsample  \n",
       "0                None              1.0  "
      ]
     },
     "execution_count": 44,
     "metadata": {},
     "output_type": "execute_result"
    },
    {
     "name": "stderr",
     "output_type": "stream",
     "text": [
      "/home/codeany/.local/lib/python3.8/site-packages/xgboost/compat.py:93: FutureWarning: pandas.Int64Index is deprecated and will be removed from pandas in a future version. Use pandas.Index with the appropriate dtype instead.\n",
      "  from pandas import MultiIndex, Int64Index\n",
      "/home/codeany/.local/lib/python3.8/site-packages/xgboost/compat.py:93: FutureWarning: pandas.Int64Index is deprecated and will be removed from pandas in a future version. Use pandas.Index with the appropriate dtype instead.\n",
      "  from pandas import MultiIndex, Int64Index\n",
      "/home/codeany/.local/lib/python3.8/site-packages/xgboost/compat.py:93: FutureWarning: pandas.Int64Index is deprecated and will be removed from pandas in a future version. Use pandas.Index with the appropriate dtype instead.\n",
      "  from pandas import MultiIndex, Int64Index\n",
      "/home/codeany/.local/lib/python3.8/site-packages/xgboost/compat.py:93: FutureWarning: pandas.Int64Index is deprecated and will be removed from pandas in a future version. Use pandas.Index with the appropriate dtype instead.\n",
      "  from pandas import MultiIndex, Int64Index\n"
     ]
    }
   ],
   "source": [
    "grid_search_summary, grid_search_pipelines = search.score_summary(sort_by='mean_score')\n",
    "grid_search_summary"
   ]
  },
  {
   "cell_type": "markdown",
   "id": "8c1d353a-fa05-4ee4-bcfd-383777527f99",
   "metadata": {},
   "source": [
    "The simplified pipeline is similar to our previous pipeline with the most important variables and it also keeps a similar score"
   ]
  },
  {
   "cell_type": "markdown",
   "id": "0fb15967-a91e-410e-85b3-30cd7698f1a2",
   "metadata": {},
   "source": [
    "# Push the files to Repo"
   ]
  },
  {
   "cell_type": "code",
   "execution_count": 45,
   "id": "dced686e-897a-452c-a645-7a178c6a7d6d",
   "metadata": {},
   "outputs": [],
   "source": [
    "import joblib\n",
    "import os\n",
    "\n",
    "version = 'v1'\n",
    "file_path = f'outputs/ml_pipeline/predict_housing_price/{version}'\n",
    "\n",
    "try:\n",
    "    os.makedirs(name=file_path)\n",
    "except Exception as e:\n",
    "    print(e)"
   ]
  },
  {
   "cell_type": "code",
   "execution_count": 46,
   "id": "4ef4427e-f9c7-403b-b8a4-4e3cc14af4d4",
   "metadata": {},
   "outputs": [
    {
     "name": "stdout",
     "output_type": "stream",
     "text": [
      "(1168, 4)\n"
     ]
    },
    {
     "data": {
      "text/html": [
       "<div>\n",
       "<style scoped>\n",
       "    .dataframe tbody tr th:only-of-type {\n",
       "        vertical-align: middle;\n",
       "    }\n",
       "\n",
       "    .dataframe tbody tr th {\n",
       "        vertical-align: top;\n",
       "    }\n",
       "\n",
       "    .dataframe thead th {\n",
       "        text-align: right;\n",
       "    }\n",
       "</style>\n",
       "<table border=\"1\" class=\"dataframe\">\n",
       "  <thead>\n",
       "    <tr style=\"text-align: right;\">\n",
       "      <th></th>\n",
       "      <th>OverallQual</th>\n",
       "      <th>TotalBsmtSF</th>\n",
       "      <th>GarageArea</th>\n",
       "      <th>2ndFlrSF</th>\n",
       "    </tr>\n",
       "  </thead>\n",
       "  <tbody>\n",
       "    <tr>\n",
       "      <th>618</th>\n",
       "      <td>9</td>\n",
       "      <td>1822</td>\n",
       "      <td>285.045723</td>\n",
       "      <td>0.0</td>\n",
       "    </tr>\n",
       "    <tr>\n",
       "      <th>870</th>\n",
       "      <td>5</td>\n",
       "      <td>894</td>\n",
       "      <td>133.391173</td>\n",
       "      <td>0.0</td>\n",
       "    </tr>\n",
       "    <tr>\n",
       "      <th>92</th>\n",
       "      <td>5</td>\n",
       "      <td>876</td>\n",
       "      <td>176.329005</td>\n",
       "      <td>0.0</td>\n",
       "    </tr>\n",
       "    <tr>\n",
       "      <th>817</th>\n",
       "      <td>8</td>\n",
       "      <td>1568</td>\n",
       "      <td>309.970775</td>\n",
       "      <td>0.0</td>\n",
       "    </tr>\n",
       "    <tr>\n",
       "      <th>302</th>\n",
       "      <td>7</td>\n",
       "      <td>1541</td>\n",
       "      <td>305.798023</td>\n",
       "      <td>0.0</td>\n",
       "    </tr>\n",
       "  </tbody>\n",
       "</table>\n",
       "</div>"
      ],
      "text/plain": [
       "     OverallQual  TotalBsmtSF  GarageArea  2ndFlrSF\n",
       "618            9         1822  285.045723       0.0\n",
       "870            5          894  133.391173       0.0\n",
       "92             5          876  176.329005       0.0\n",
       "817            8         1568  309.970775       0.0\n",
       "302            7         1541  305.798023       0.0"
      ]
     },
     "execution_count": 46,
     "metadata": {},
     "output_type": "execute_result"
    }
   ],
   "source": [
    "print(X_train.shape)\n",
    "X_train.head()"
   ]
  },
  {
   "cell_type": "markdown",
   "id": "e4d43749-e750-47f9-8bca-89e8a18001d2",
   "metadata": {},
   "source": [
    "Save Train Set"
   ]
  },
  {
   "cell_type": "code",
   "execution_count": 47,
   "id": "1605020a-8aaf-4a87-acc5-08bf5adf760d",
   "metadata": {},
   "outputs": [],
   "source": [
    "X_train.to_csv(f\"{file_path}/X_train.csv\", index=False)"
   ]
  },
  {
   "cell_type": "code",
   "execution_count": 48,
   "id": "1286b30c-9c10-4a77-9c81-5c77d4c073f7",
   "metadata": {},
   "outputs": [],
   "source": [
    "y_train.to_csv(f\"{file_path}/y_train.csv\", index=False)"
   ]
  },
  {
   "cell_type": "markdown",
   "id": "018a6cc2-5677-4604-9283-76512a656f00",
   "metadata": {},
   "source": [
    "Save Test Set"
   ]
  },
  {
   "cell_type": "code",
   "execution_count": 49,
   "id": "114cbc3e-38ba-4fca-9bc1-60d78d64fda3",
   "metadata": {},
   "outputs": [],
   "source": [
    "X_test.to_csv(f\"{file_path}/X_test.csv\", index=False)"
   ]
  },
  {
   "cell_type": "code",
   "execution_count": 50,
   "id": "19f76c14-0805-43e1-9e72-6ca769d6745e",
   "metadata": {},
   "outputs": [],
   "source": [
    "y_test.to_csv(f\"{file_path}/y_test.csv\", index=False)"
   ]
  },
  {
   "cell_type": "markdown",
   "id": "a15aab89-3bd7-4f65-ab27-53627cc0ab72",
   "metadata": {},
   "source": [
    "Save Pipeline Model"
   ]
  },
  {
   "cell_type": "code",
   "execution_count": 53,
   "id": "665b3123-2e00-437d-8d94-18edc1b3d6cf",
   "metadata": {},
   "outputs": [
    {
     "data": {
      "text/plain": [
       "['outputs/ml_pipeline/predict_housing_price/v1/clf_pipeline_model.pkl']"
      ]
     },
     "execution_count": 53,
     "metadata": {},
     "output_type": "execute_result"
    }
   ],
   "source": [
    "joblib.dump(value=pipeline_clf ,\n",
    "            filename=f\"{file_path}/clf_pipeline_model.pkl\")"
   ]
  },
  {
   "cell_type": "markdown",
   "id": "87a394b1-57e7-40a0-8427-ea1069e19604",
   "metadata": {},
   "source": [
    "Save feature importance image"
   ]
  },
  {
   "cell_type": "code",
   "execution_count": 55,
   "id": "62c4ee35-88a5-4524-9b4a-31bd57c54f7d",
   "metadata": {},
   "outputs": [
    {
     "data": {
      "image/png": "[encoded data removed]",
      "text/plain": [
       "<Figure size 640x480 with 1 Axes>"
      ]
     },
     "metadata": {},
     "output_type": "display_data"
    }
   ],
   "source": [
    "df_feature_importance.plot(kind='bar', x='Feature', y='Importance')\n",
    "plt.savefig(f'{file_path}/features_importance.png', bbox_inches='tight')"
   ]
  }
 ],
 "metadata": {
  "kernelspec": {
   "display_name": "Python 3 (ipykernel)",
   "language": "python",
   "name": "python3"
  },
  "language_info": {
   "codemirror_mode": {
    "name": "ipython",
    "version": 3
   },
   "file_extension": ".py",
   "mimetype": "text/x-python",
   "name": "python",
   "nbconvert_exporter": "python",
   "pygments_lexer": "ipython3",
   "version": "3.8.12"
  }
 },
 "nbformat": 4,
 "nbformat_minor": 5
}
